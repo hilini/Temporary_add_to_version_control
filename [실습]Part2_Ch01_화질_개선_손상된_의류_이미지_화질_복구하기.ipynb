{
  "nbformat": 4,
  "nbformat_minor": 0,
  "metadata": {
    "colab": {
      "name": "[실습]Part2_Ch01_화질 개선 - 손상된 의류 이미지 화질 복구하기",
      "provenance": [],
      "collapsed_sections": [],
      "toc_visible": true,
      "include_colab_link": true
    },
    "kernelspec": {
      "name": "python3",
      "display_name": "Python 3"
    }
  },
  "cells": [
    {
      "cell_type": "markdown",
      "metadata": {
        "id": "view-in-github",
        "colab_type": "text"
      },
      "source": [
        "<a href=\"https://colab.research.google.com/github/hilini/Temporary_add_to_version_control/blob/master/%5B%E1%84%89%E1%85%B5%E1%86%AF%E1%84%89%E1%85%B3%E1%86%B8%5DPart2_Ch01_%E1%84%92%E1%85%AA%E1%84%8C%E1%85%B5%E1%86%AF_%E1%84%80%E1%85%A2%E1%84%89%E1%85%A5%E1%86%AB_%E1%84%89%E1%85%A9%E1%86%AB%E1%84%89%E1%85%A1%E1%86%BC%E1%84%83%E1%85%AC%E1%86%AB_%E1%84%8B%E1%85%B4%E1%84%85%E1%85%B2_%E1%84%8B%E1%85%B5%E1%84%86%E1%85%B5%E1%84%8C%E1%85%B5_%E1%84%92%E1%85%AA%E1%84%8C%E1%85%B5%E1%86%AF_%E1%84%87%E1%85%A9%E1%86%A8%E1%84%80%E1%85%AE%E1%84%92%E1%85%A1%E1%84%80%E1%85%B5.ipynb\" target=\"_parent\"><img src=\"https://colab.research.google.com/assets/colab-badge.svg\" alt=\"Open In Colab\"/></a>"
      ]
    },
    {
      "cell_type": "markdown",
      "metadata": {
        "id": "oR0VJlz7mi5A"
      },
      "source": [
        "\n",
        "# 주제 : 화질 개선 - 손상된 의류 이미지 화질 복구하기\n",
        "--------------\n",
        "## 실습 가이드\n",
        "    1. 데이터를 다운로드하여 Colab에 불러옵니다.\n",
        "    2. 필요한 라이브러리는 모두 코드로 작성되어 있습니다.\n",
        "    3. 코드는 위에서부터 아래로 순서대로 실행합니다.\n",
        "    4. 전체 문제 구성은 좌측 첫 번째 아이콘을 통해 확인할 수 있습니다.\n",
        "\n",
        "## 데이터 소개\n",
        "     - 이번 주제의 데이터는 너무나 유명한 fashion MNIST 데이터를 사용합니다.\n",
        "  ![fashion mnist 이미지](https://rviews.rstudio.com/post/2019-10-31-a-comparison-of-methods-for-predicting-clothing-classes-using-the-fashion-mnist-dataset-in-rstudio-and-python-part-1/index_files/figure-html/unnamed-chunk-8-1.png)\n",
        "\n",
        "      위의 이미지는 다음과 같은 것을 보여줍니다.  \n",
        "      (a) 28x28의 배열에서 의류들이 어떻게 모사되는지   \n",
        "      (b) 각 셔츠, 바지, 풀오버, 드레스 등 다양한 의류 그림의 모습들\n",
        "\n",
        "\n",
        "- 데이터 출처: [fashionmnist](https://www.kaggle.com/zalando-research/fashionmnist)\n",
        "\n",
        "## 최종 목표\n",
        "\n",
        "    - noisy가 있는 fashion MNIST 이미지 원래대로 복원하기\n",
        "    - 흑백 이미지와 칼라 이미지의 차이\n",
        "    - 이미지에 Noisy를 추가하는 방법\n",
        "    - 이미지에 대한 오토인코더식 접근 방법\n",
        "\n",
        "- 출제자 : 손근영 강사\n",
        "---\n"
      ]
    },
    {
      "cell_type": "code",
      "metadata": {
        "id": "e7kl3hgkikbo"
      },
      "source": [
        "import tensorflow as tf\n",
        "from tensorflow import keras\n",
        "from keras.layers import Dense\n",
        "from keras.models import Sequential\n",
        "\n",
        "import pandas as pd\n",
        "import numpy as np\n",
        "import matplotlib.pyplot as plt\n",
        "import seaborn as sns\n",
        "import warnings \n",
        "from IPython.display import Image\n",
        "\n",
        "warnings.filterwarnings('ignore')\n",
        "%matplotlib inline\n",
        "\n",
        "SEED = 34"
      ],
      "execution_count": 9,
      "outputs": []
    },
    {
      "cell_type": "markdown",
      "metadata": {
        "id": "c5uDUVunS1Yk"
      },
      "source": [
        "## Step 1. 도입전 기본 처리"
      ]
    },
    {
      "cell_type": "markdown",
      "metadata": {
        "id": "2Bgf6uZtoBob"
      },
      "source": [
        "### 문제 1. fashion mnist 데이터 살펴보기"
      ]
    },
    {
      "cell_type": "code",
      "metadata": {
        "id": "l2NW5G5nTgsb"
      },
      "source": [
        "# 데이터를 불러오는 코드를 작성해주세요.\n",
        "fashion_mnist=keras.datasets.fashion_mnist\n",
        "(train_images,train_labels),(test_images, test_labels)=fashion_mnist.load_data()"
      ],
      "execution_count": 10,
      "outputs": []
    },
    {
      "cell_type": "markdown",
      "metadata": {
        "id": "ko4D-BpJTq2r"
      },
      "source": [
        "### 문제 2. train_images/labels와 test_images/labes의 shape을 출력해보세요."
      ]
    },
    {
      "cell_type": "code",
      "metadata": {
        "id": "waksbx9aT5tK",
        "colab": {
          "base_uri": "https://localhost:8080/"
        },
        "outputId": "8e28624f-3e6d-402a-ef87-ba16bda0902d"
      },
      "source": [
        "# 데이터의 크기를 shape 함수를 통해 출력해주세요.\n",
        "print(train_images.shape)\n",
        "print(train_labels.shape)\n",
        "print(test_images.shape)\n",
        "print(test_labels.shape)"
      ],
      "execution_count": 11,
      "outputs": [
        {
          "output_type": "stream",
          "name": "stdout",
          "text": [
            "(60000, 28, 28)\n",
            "(60000,)\n",
            "(10000, 28, 28)\n",
            "(10000,)\n"
          ]
        }
      ]
    },
    {
      "cell_type": "markdown",
      "metadata": {
        "id": "hrmQ7HzEUKrz"
      },
      "source": [
        "### 문제 3. (28, 28) 형태의 이미지를 plt을 이용하여 출력해보세요."
      ]
    },
    {
      "cell_type": "code",
      "metadata": {
        "id": "fVzGHMSYUUKk",
        "colab": {
          "base_uri": "https://localhost:8080/",
          "height": 265
        },
        "outputId": "f38f5f15-ecfd-4dce-8483-0b6d9406c224"
      },
      "source": [
        "# 28x28의 흑백 이미지를 plt를 이용하여 출력하는 코드를 작성해보세요\n",
        "plt.imshow(train_images[0])\n",
        "plt.colorbar()\n",
        "plt.show()"
      ],
      "execution_count": 12,
      "outputs": [
        {
          "output_type": "display_data",
          "data": {
            "image/png": "[encoded data removed]",
            "text/plain": [
              "<Figure size 432x288 with 2 Axes>"
            ]
          },
          "metadata": {
            "needs_background": "light"
          }
        }
      ]
    },
    {
      "cell_type": "markdown",
      "metadata": {
        "id": "vDLHexaGUs17"
      },
      "source": [
        "### 문제 4. train_images에서 0이 아닌 값들을 출력해보세요."
      ]
    },
    {
      "cell_type": "code",
      "metadata": {
        "id": "1NYdCv1yUsKG",
        "colab": {
          "base_uri": "https://localhost:8080/"
        },
        "outputId": "91bc1c68-c81a-4543-bec7-a95e9de05271"
      },
      "source": [
        "# 하나의 이미지에 대한 모든 0이 아닌 값을 출력하는 코드를 작성하세요\n",
        "list(filter(lambda x:x !=0, train_images[0].reshape(-1)))[:10]"
      ],
      "execution_count": 13,
      "outputs": [
        {
          "output_type": "execute_result",
          "data": {
            "text/plain": [
              "[1, 13, 73, 1, 4, 1, 1, 3, 36, 136]"
            ]
          },
          "metadata": {},
          "execution_count": 13
        }
      ]
    },
    {
      "cell_type": "markdown",
      "metadata": {
        "id": "CZOhbFOFU_jr"
      },
      "source": [
        "### 문제 5. train_images의 dtype을 출력해보세요."
      ]
    },
    {
      "cell_type": "code",
      "metadata": {
        "id": "nVc4kjgAVNl7",
        "colab": {
          "base_uri": "https://localhost:8080/"
        },
        "outputId": "0357902a-8be4-4f09-fc8c-a22c6a473713"
      },
      "source": [
        "# dtype을 이용하여 이미지의 np array type을 확인해보세요.\n",
        "train_images.dtype\n",
        "#0 T-shirt/top\n",
        "#1 Trouser/pants\n",
        "#2 Pullover shirt\n",
        "#3 Dress\n",
        "#4 Coat\n",
        "#5 Sandal\n",
        "#6 Shirt\n",
        "#7 Sneaker\n",
        "#8 Bag\n",
        "#9 Ankle boot"
      ],
      "execution_count": 14,
      "outputs": [
        {
          "output_type": "execute_result",
          "data": {
            "text/plain": [
              "dtype('uint8')"
            ]
          },
          "metadata": {},
          "execution_count": 14
        }
      ]
    },
    {
      "cell_type": "markdown",
      "metadata": {
        "id": "eKv9UoZAxTr6"
      },
      "source": [
        "## Step 2. 전처리"
      ]
    },
    {
      "cell_type": "markdown",
      "metadata": {
        "id": "UTXpP1Imyaad"
      },
      "source": [
        "### 문제 6. train/test 이미지 데이터의 범위 확인"
      ]
    },
    {
      "cell_type": "code",
      "metadata": {
        "id": "Ji6XLxvRy5eJ",
        "colab": {
          "base_uri": "https://localhost:8080/"
        },
        "outputId": "351cdd1c-21b0-4510-ed32-1e3351fa9d1b"
      },
      "source": [
        "# test_images의 shape과 dtype, 0이 아닌 숫자를 출력하는 코드를 작성하세요.\n",
        "print(test_images.shape)\n",
        "print(test_images.dtype)\n",
        "print(list(filter(lambda x:x !=0, train_images[0].reshape(-1)))[:10])\n",
        "print(list(filter(lambda x:x !=0, test_images[0].reshape(-1)))[:10])"
      ],
      "execution_count": 15,
      "outputs": [
        {
          "output_type": "stream",
          "name": "stdout",
          "text": [
            "(10000, 28, 28)\n",
            "uint8\n",
            "[1, 13, 73, 1, 4, 1, 1, 3, 36, 136]\n",
            "[3, 1, 7, 37, 1, 2, 27, 84, 11, 119]\n"
          ]
        }
      ]
    },
    {
      "cell_type": "markdown",
      "metadata": {
        "id": "7OpFGbD6V8Zl"
      },
      "source": [
        "### 문제 7. train/test 이미지 데이터의 최소/최대값을 출력"
      ]
    },
    {
      "cell_type": "code",
      "metadata": {
        "id": "sFOJNRTvYo7d",
        "colab": {
          "base_uri": "https://localhost:8080/"
        },
        "outputId": "69c2c00c-3cf2-4eab-80d6-64cf6eb0cf35"
      },
      "source": [
        "# train/test 전체 데이터에서 각 images, labels의 min, max를 출력하는 코드를 작성하세요.\n",
        "print(min(train_images.reshape(-1)),max(train_images.reshape(-1)))\n",
        "print(min(test_images.reshape(-1)),max(test_images.reshape(-1)))"
      ],
      "execution_count": 16,
      "outputs": [
        {
          "output_type": "stream",
          "name": "stdout",
          "text": [
            "0 255\n",
            "0 255\n"
          ]
        }
      ]
    },
    {
      "cell_type": "markdown",
      "metadata": {
        "id": "W_xsByHegZhh"
      },
      "source": [
        "### 문제 8. 정수형을 실수형으로 변경 후 dtype으로 비교"
      ]
    },
    {
      "cell_type": "code",
      "metadata": {
        "id": "Y88qmAVChg_Z",
        "colab": {
          "base_uri": "https://localhost:8080/"
        },
        "outputId": "27bfeaa5-315f-43c9-e060-785339079c2b"
      },
      "source": [
        "# train/test 데이터의 타입을 dtype으로 확인해보고 실수형으로 전환하는 코드를 작성하세요.\n",
        "train_images=train_images.astype(np.float64)\n",
        "test_images=test_images.astype(np.float64)\n",
        "(train_images.dtype,test_images.dtype)"
      ],
      "execution_count": 17,
      "outputs": [
        {
          "output_type": "execute_result",
          "data": {
            "text/plain": [
              "(dtype('float64'), dtype('float64'))"
            ]
          },
          "metadata": {},
          "execution_count": 17
        }
      ]
    },
    {
      "cell_type": "markdown",
      "metadata": {
        "id": "9iIJK2qsfevX"
      },
      "source": [
        "### 문제 9. 데이터 0-1 노말라이즈 수행\n"
      ]
    },
    {
      "cell_type": "markdown",
      "metadata": {
        "id": "L0f__zuBfotM"
      },
      "source": [
        "#### 힌트\n",
        "\n",
        "일반적으로 0-1사의의 값을 가지게 하기 위해서는 다음 수식을 사용합니다.\n",
        "\n",
        "$$normalize(x) = \\frac{x - 최소값}{최대값 - 최소값}$$\n",
        "\n",
        "이 경우 최소값이 0이기 떄문에 다음과 같이 간편하게 구할 수 있습니다.\n",
        "\n",
        "$$normalize(x) = \\frac{x}{최대값}$$"
      ]
    },
    {
      "cell_type": "code",
      "metadata": {
        "id": "SV2A6JZBf7Ku"
      },
      "source": [
        "# images의 값이 0-1사이의 값을 같도록 코드를 작성해보세요.\n",
        "train_images = train_images/255\n",
        "test_images= test_images/255"
      ],
      "execution_count": 18,
      "outputs": []
    },
    {
      "cell_type": "markdown",
      "metadata": {
        "id": "8QqqdPzDiC3F"
      },
      "source": [
        "### 문제 10. 0-1 노말라이즈 후 데이터의 값이 변경되었는지 문제 6, 7의 방법을 이용하여 확인하세요."
      ]
    },
    {
      "cell_type": "code",
      "metadata": {
        "id": "t-ZKXRKO2rBE",
        "colab": {
          "base_uri": "https://localhost:8080/"
        },
        "outputId": "494ee5c5-70d2-4b7a-a25f-04ecc5f9282f"
      },
      "source": [
        "# 노말라이즈 후 min/max, shape, 0이 아닌 값, dtype 등을 확인하는 코드를 작성해보세요. \n",
        "print(min(train_images.reshape(-1)),max(train_images.reshape(-1)))\n",
        "print(min(test_images.reshape(-1)),max(test_images.reshape(-1)))\n",
        "train_images.shape #28,28이 H, W 인데 뒤에 채널부분이 없음.\n",
        "\n",
        "#image랑 shape이 이렇게 생김.(H, W) 흑백일때\n",
        "#칼라는 (H,W,C=3) "
      ],
      "execution_count": 19,
      "outputs": [
        {
          "output_type": "stream",
          "name": "stdout",
          "text": [
            "0.0 1.0\n",
            "0.0 1.0\n"
          ]
        },
        {
          "output_type": "execute_result",
          "data": {
            "text/plain": [
              "(60000, 28, 28)"
            ]
          },
          "metadata": {},
          "execution_count": 19
        }
      ]
    },
    {
      "cell_type": "markdown",
      "metadata": {
        "id": "Pu5zWPW1GJPe"
      },
      "source": [
        "### 문제 11. 흑백 이미지를 칼라 이미지의 shape으로 변경하세요."
      ]
    },
    {
      "cell_type": "code",
      "metadata": {
        "id": "vv8b7LZGGdxi",
        "colab": {
          "base_uri": "https://localhost:8080/"
        },
        "outputId": "3a37082f-aa56-428f-a3d8-b1e30307b00d"
      },
      "source": [
        "# (배치, 28, 28)의 흑백 shape을 (배치, 28, 28, 3)의 칼라 shape의 영역으로 확대하는 코드를 추가하세요.\n",
        "from skimage import color\n",
        "print(color.gray2rgb(train_images[0]).shape)\n",
        "\n",
        "train_images= np.array([color.gray2rgb(img) for img in train_images])\n",
        "test_images= np.array([color.gray2rgb(img) for img in test_images])\n",
        "print(train_images.shape, test_images.shape)\n"
      ],
      "execution_count": 20,
      "outputs": [
        {
          "output_type": "stream",
          "name": "stdout",
          "text": [
            "(28, 28, 3)\n",
            "(60000, 28, 28, 3) (10000, 28, 28, 3)\n"
          ]
        }
      ]
    },
    {
      "cell_type": "markdown",
      "metadata": {
        "id": "SMyUArry3UhT"
      },
      "source": [
        "## Step 3. 시각화 방법"
      ]
    },
    {
      "cell_type": "markdown",
      "metadata": {
        "id": "UFga-Bbo6L0E"
      },
      "source": [
        "### 문제 12. train_image의 이미지를 5장 획득하여 (5, 28, 28, 3)의 shape을 출력하세요."
      ]
    },
    {
      "cell_type": "code",
      "metadata": {
        "id": "cLaqqwz4i_7D",
        "colab": {
          "base_uri": "https://localhost:8080/"
        },
        "outputId": "8991c8ac-1ed1-439f-98e5-499dd9caaeb4"
      },
      "source": [
        "# (60000, 28, 28, 3)인 train_images에서 (5, 28, 28, 3)을 획득하는 코드를 작성하세요.\n",
        "train_images[:5].shape"
      ],
      "execution_count": 21,
      "outputs": [
        {
          "output_type": "execute_result",
          "data": {
            "text/plain": [
              "(5, 28, 28, 3)"
            ]
          },
          "metadata": {},
          "execution_count": 21
        }
      ]
    },
    {
      "cell_type": "markdown",
      "metadata": {
        "id": "gX8JH97njNNr"
      },
      "source": [
        "### 문제 13. 획득한 5장의 의미지를 (28, 28 * 5, 3)의 shape으로 변경해보세요."
      ]
    },
    {
      "cell_type": "code",
      "metadata": {
        "id": "bxRhMcaKk3Pa",
        "colab": {
          "base_uri": "https://localhost:8080/",
          "height": 118
        },
        "outputId": "506423cb-597b-48d7-c633-689d1eda3954"
      },
      "source": [
        "# np.hstack은 height 방향의 배열을 풀어서 width 방향으로 연결해줍니다.\n",
        "# 해당 기능을 쓰면 (height, image_height, image_width, color)의 shape을 (image_height, image_width * height, color)으로 바꿔 줄 수 있습니다.\n",
        "# 코드를 작성해보세요. (정답)\n",
        "plt.imshow(np.hstack(train_images[:5]))\n",
        "plt.show()"
      ],
      "execution_count": 22,
      "outputs": [
        {
          "output_type": "display_data",
          "data": {
            "image/png": "[encoded data removed]",
            "text/plain": [
              "<Figure size 432x288 with 1 Axes>"
            ]
          },
          "metadata": {
            "needs_background": "light"
          }
        }
      ]
    },
    {
      "cell_type": "markdown",
      "metadata": {
        "id": "xqyaO-5bk-sj"
      },
      "source": [
        "### 문제 14. np.hstack은 tensorflow에서 제공하는 방법이 아니므로 transpose 함수를 이용하여 (28, 28 * 5, 3)로 shape을 변경해보세요."
      ]
    },
    {
      "cell_type": "code",
      "metadata": {
        "id": "SqmKdjlGlqLJ",
        "colab": {
          "base_uri": "https://localhost:8080/"
        },
        "outputId": "83231bd6-e38f-4719-a1a5-3673e60817d7"
      },
      "source": [
        "# transpose는 tensor의 axis를 섞는 기능을 합니다.\n",
        "# 해당 기능을 이용해서 (28, 140)을 작성하는 코드를 작성해보세요.\n",
        "train_images[:5].transpose((1,0,2,3)).reshape((28, -1,3)).shape"
      ],
      "execution_count": 23,
      "outputs": [
        {
          "output_type": "execute_result",
          "data": {
            "text/plain": [
              "(28, 140, 3)"
            ]
          },
          "metadata": {},
          "execution_count": 23
        }
      ]
    },
    {
      "cell_type": "markdown",
      "metadata": {
        "id": "T0oaToP6l0Pd"
      },
      "source": [
        "### 문제 15. (28, 140, 3)이 된 tensor를 plt로 출력해보세요."
      ]
    },
    {
      "cell_type": "code",
      "metadata": {
        "id": "ToUpk3oBmIr1",
        "colab": {
          "base_uri": "https://localhost:8080/",
          "height": 118
        },
        "outputId": "efe9dba4-4773-4025-ae97-103ba7ba1cd2"
      },
      "source": [
        "# (28, 140, 3)의 이미지를 plt로 출력해보세요.\n",
        "plt.imshow(train_images[:5].transpose((1,0,2,3)).reshape((28, -1,3)))\n",
        "plt.show()"
      ],
      "execution_count": 24,
      "outputs": [
        {
          "output_type": "display_data",
          "data": {
            "image/png": "[encoded data removed]",
            "text/plain": [
              "<Figure size 432x288 with 1 Axes>"
            ]
          },
          "metadata": {
            "needs_background": "light"
          }
        }
      ]
    },
    {
      "cell_type": "markdown",
      "metadata": {
        "id": "Kz3kWteP8Kap"
      },
      "source": [
        "## Step 4. Data augmentation - Noise 추가 방법"
      ]
    },
    {
      "cell_type": "markdown",
      "metadata": {
        "id": "fesKKJqio--a"
      },
      "source": [
        "### 문제 16. np.random.random 함수를 이용하여 0-1 사이의 랜덤값을 3회 print로 출력해보시오."
      ]
    },
    {
      "cell_type": "code",
      "metadata": {
        "id": "Jsmh1keWpODx",
        "colab": {
          "base_uri": "https://localhost:8080/"
        },
        "outputId": "344c05ef-3b6d-4b5c-c947-f8c0b0a92945"
      },
      "source": [
        "# np.random.ranodm을 이용해서 0-1 사의의 랜덤값을 3회 출력하는 코드를 작성하시오.\n",
        "print(np.random.random())\n",
        "print(np.random.random())\n",
        "print(np.random.random())"
      ],
      "execution_count": 25,
      "outputs": [
        {
          "output_type": "stream",
          "name": "stdout",
          "text": [
            "0.4156276467996082\n",
            "0.10767268783977324\n",
            "0.6713814831650735\n"
          ]
        }
      ]
    },
    {
      "cell_type": "markdown",
      "metadata": {
        "id": "_1NMpB6LqIB5"
      },
      "source": [
        "### 문제 17. np.random.random 함수와 shape 파라매터를 (28, 28, 3)의 칼라 랜덤 노이즈를 생성해보세요."
      ]
    },
    {
      "cell_type": "code",
      "metadata": {
        "id": "U9-NlbEhqhCx",
        "colab": {
          "base_uri": "https://localhost:8080/"
        },
        "outputId": "95508ae4-7a8c-47b4-a64d-3c5b65fc227c"
      },
      "source": [
        "# np.random.randpm 함수와 shape 파라매터를 이용하여 (28, 28, 3)의 랜덤 노이즈를 생성하는 코드를 작성하시오.\n",
        "np.random.random((28,28,3)).shape"
      ],
      "execution_count": 26,
      "outputs": [
        {
          "output_type": "execute_result",
          "data": {
            "text/plain": [
              "(28, 28, 3)"
            ]
          },
          "metadata": {},
          "execution_count": 26
        }
      ]
    },
    {
      "cell_type": "markdown",
      "metadata": {
        "id": "JLSYLZr0qvGI"
      },
      "source": [
        "### 문제 18. 생성된 random (28, 28, 3) 노이즈를 plt를 통하여 확인해보세요."
      ]
    },
    {
      "cell_type": "code",
      "metadata": {
        "id": "EsgmHRFSrDX4",
        "colab": {
          "base_uri": "https://localhost:8080/",
          "height": 265
        },
        "outputId": "0a02369e-5353-44e9-92fb-bb20e0e76d4f"
      },
      "source": [
        "# plt를 통하여 random (28, 28, 3) 노이즈를 2회 출력하는 코드를 작성하시고, 이미지가 다른지 확인하세요.\n",
        "plt.imshow(np.random.random((28,28,3)))\n",
        "plt.show()"
      ],
      "execution_count": 27,
      "outputs": [
        {
          "output_type": "display_data",
          "data": {
            "image/png": "[encoded data removed]",
            "text/plain": [
              "<Figure size 432x288 with 1 Axes>"
            ]
          },
          "metadata": {
            "needs_background": "light"
          }
        }
      ]
    },
    {
      "cell_type": "markdown",
      "metadata": {
        "id": "nWy8FKR1AYJU"
      },
      "source": [
        "### 문제 19. 가우시안 노이즈 함수를 사용하여 평균 0, 표준편차 0.1, 사이즈 1로 랜덤 값을 3번 출력하세요. (np.random.normal)"
      ]
    },
    {
      "cell_type": "code",
      "metadata": {
        "id": "ENpSWYu_stHp",
        "colab": {
          "base_uri": "https://localhost:8080/"
        },
        "outputId": "5527e32e-c03c-42d5-dded-cf4aa6a0753b"
      },
      "source": [
        "# 가우시안 노이즈 함수를 이용하여 mu 0.1 std 0.1 size 1인 랜덤값을 3번 출력하는 코드를 작성하세요.\n",
        "print(np.random.normal(0,0.1,1))\n",
        "print(np.random.normal(0,0.1,1))\n",
        "print(np.random.normal(0,0.1,1))"
      ],
      "execution_count": 28,
      "outputs": [
        {
          "output_type": "stream",
          "name": "stdout",
          "text": [
            "[-0.13794455]\n",
            "[-0.1031762]\n",
            "[0.0539248]\n"
          ]
        }
      ]
    },
    {
      "cell_type": "markdown",
      "metadata": {
        "id": "OQPItJ4zBWTt"
      },
      "source": [
        "### 문제 20. 가우시안 노이즈 함수의 옵션을 문제 17과 동일하지만 평균이 3.0인 경우, 표준 편차가 0.01인 경우로 각각 3회씩 출력해보세요."
      ]
    },
    {
      "cell_type": "code",
      "metadata": {
        "id": "CuvUg3SmtRrx",
        "colab": {
          "base_uri": "https://localhost:8080/"
        },
        "outputId": "7622eb98-db3f-4e8d-efd3-4910981f4c0e"
      },
      "source": [
        "# 가우시안 노이즈 함수 mu = 3.0, std = 0.1, size = 1을 3 회 출력, mu = 0.0, std = 0.01, size = 1을 3회 출력하는 코드를 작성해보세요.\n",
        "print(np.random.normal(3,0.01,1))\n",
        "print(np.random.normal(3,0.01,1))\n",
        "print(np.random.normal(3,0.01,1))"
      ],
      "execution_count": 29,
      "outputs": [
        {
          "output_type": "stream",
          "name": "stdout",
          "text": [
            "[3.00328851]\n",
            "[3.00763292]\n",
            "[2.99622677]\n"
          ]
        }
      ]
    },
    {
      "cell_type": "markdown",
      "metadata": {
        "id": "ef1qyJ8HtZfu"
      },
      "source": [
        "### 문제 21. 가우시안 노이즈 함수를 size를 (28, 28, 3)로 생성 후 plt로 출력해보세요. 범위는 0-1의 사이로 고정해야합니다."
      ]
    },
    {
      "cell_type": "code",
      "metadata": {
        "id": "kh_v1QZYt0kJ",
        "colab": {
          "base_uri": "https://localhost:8080/",
          "height": 265
        },
        "outputId": "367a7dc0-3ef5-4c90-c488-5fde770cca75"
      },
      "source": [
        "# 가우시안 노이즈 함수를 문제 17의 옵션으로 size를 (28, 28, 3)로 생성 후 plt로 출력하는 코드를 작성해보세요. 단, std = 0.01\n",
        "noisy=np.random.normal(0.5,0.1,(28,28,3))\n",
        "noisy[noisy>1.0]=1.0\n",
        "plt.imshow(noisy)\n",
        "plt.colorbar()\n",
        "plt.show()"
      ],
      "execution_count": 30,
      "outputs": [
        {
          "output_type": "display_data",
          "data": {
            "image/png": "[encoded data removed]",
            "text/plain": [
              "<Figure size 432x288 with 2 Axes>"
            ]
          },
          "metadata": {
            "needs_background": "light"
          }
        }
      ]
    },
    {
      "cell_type": "markdown",
      "metadata": {
        "id": "MUdBACZuCDfA"
      },
      "source": [
        "### 문제 22. train_images의 5번째 이미지와 가우시안 노이즈 (28, 28, 3)를 생성 한 뒤 각각 tensor를 더한 뒤 noisy_image 변수에 할당 해보세요."
      ]
    },
    {
      "cell_type": "code",
      "metadata": {
        "id": "pWia41PbumMX"
      },
      "source": [
        "# train_images[5]와 가우시안 노이즈 (28, 28, 3)을 더한 뒤 noisy_image 변수에 할당하는 코드를 작성하세요. mu = 0.5, std = 0.05\n",
        "noisy_image=train_images[5]+noisy\n",
        "noisy_image[noisy_image>1]=1.0"
      ],
      "execution_count": 31,
      "outputs": []
    },
    {
      "cell_type": "markdown",
      "metadata": {
        "id": "WsA0v_tNuv7Z"
      },
      "source": [
        "### 문제 23. noisy_image를 plt를 통해서 출력해보세요."
      ]
    },
    {
      "cell_type": "code",
      "metadata": {
        "id": "SMLTjkltv4g3",
        "colab": {
          "base_uri": "https://localhost:8080/",
          "height": 269
        },
        "outputId": "54175cde-119e-47f2-c25c-c1c0d59a80ba"
      },
      "source": [
        "# noisy_image를 plt로 출력하는 코드를 작성해보세요.\n",
        "plt.imshow(noisy_image)\n",
        "plt.colorbar()\n",
        "plt.show()"
      ],
      "execution_count": 32,
      "outputs": [
        {
          "output_type": "display_data",
          "data": {
            "image/png": "[encoded data removed]",
            "text/plain": [
              "<Figure size 432x288 with 2 Axes>"
            ]
          },
          "metadata": {
            "needs_background": "light"
          }
        }
      ]
    },
    {
      "cell_type": "markdown",
      "metadata": {
        "id": "-ZGNiCnuxQTO"
      },
      "source": [
        "### 문제 24. 위의 방법을 전부 활용하여 train_images와 test_images 데이터에 랜덤 노이즈를 추가한 train_noisy_images와 test_noisy_images를 생성해보세요."
      ]
    },
    {
      "cell_type": "code",
      "metadata": {
        "id": "c7292i2CMFCz"
      },
      "source": [
        "# train_noisy_image와 test_nosiy_images를 생성하는 코드를 작성하세요.\n",
        "train_noisy_images=train_images+np.random.normal(0.5,0.05,train_images.shape)\n",
        "train_noisy_images[train_noisy_images>1.0]=1.0\n",
        "test_noisy_images=test_images+np.random.normal(0.5,0.05,test_images.shape)\n",
        "test_noisy_images[test_noisy_images>1.0]=1.0"
      ],
      "execution_count": 33,
      "outputs": []
    },
    {
      "cell_type": "markdown",
      "metadata": {
        "id": "O3AC9vjYN5xL"
      },
      "source": [
        "### 문제 25. 노이즈가 추가된 train_noisy_images에서 5장을 plt으로 출력해보세요."
      ]
    },
    {
      "cell_type": "code",
      "metadata": {
        "id": "_0JMOVKhOFOi",
        "colab": {
          "base_uri": "https://localhost:8080/",
          "height": 118
        },
        "outputId": "05c69686-fba7-4954-caa9-aef8d9137ba6"
      },
      "source": [
        "# 노이즈가 추가된 train_noisy_images에서 5장을 plt으로 출력하는 코드를 작성하세요.\n",
        "plt.imshow(train_noisy_images[:5].transpose((1,0,2,3)).reshape((28, -1,3)))\n",
        "plt.show()"
      ],
      "execution_count": 34,
      "outputs": [
        {
          "output_type": "display_data",
          "data": {
            "image/png": "[encoded data removed]",
            "text/plain": [
              "<Figure size 432x288 with 1 Axes>"
            ]
          },
          "metadata": {
            "needs_background": "light"
          }
        }
      ]
    },
    {
      "cell_type": "markdown",
      "metadata": {
        "id": "z67dTPu0xJSu"
      },
      "source": [
        "## Step 5. 모델링"
      ]
    },
    {
      "cell_type": "markdown",
      "metadata": {
        "id": "20iJHg2gXrC2"
      },
      "source": [
        "### 문제 26. 해당 학습셋을 처리하는 이미지 디노이징 모델을 작성하세요."
      ]
    },
    {
      "cell_type": "code",
      "metadata": {
        "id": "1Q1XtFoxX0eN"
      },
      "source": [
        "# input (28, 28, 3), output (28, 28, 3)을 처리할 수 있는 모래시계 모양의 모델을 작성하세요.\n",
        "from keras.layers import Dense, Input, Conv2D, Conv2DTranspose, Flatten, Reshape\n",
        "from keras.models import Model\n",
        "\n",
        "inputs =Input(shape=(28,28,3))  #color\n",
        "x=Conv2D(32,3,2, activation= 'relu',padding = 'same')(inputs) #(unit,kernel_size, stride,activation padding)\n",
        "x=Conv2D(64,3,2, activation= 'relu',padding = 'same')(x) #x를 한단계 더 받아서 더 작게만듬.\n",
        "x=Flatten()(x)  #letent벡터화 시키기 위해 Flatten 해준다 Flatten은 꼭해줄필요는 없음.\n",
        "latent= Dense(10)(x) #1차원 벡터로 다시 바꾸기 위해 Dense입히고 10개까지로 줄임. 28,28 그림이 점점 작아지면서 채널 방향을 뚱뚱해지면서 10개의 Dense 벡터로 바뀐다.\n",
        "#여기까지가 모래시계에서 점점 작아지는 것.\n",
        "\n",
        "#다시 커지게 하는과정 시작.\n",
        "x=Dense(7*7*64)(latent) #왜 곱하는지 이해 안가는데 27번 봐봐.\n",
        "x=Reshape((7,7,64))(x)  \n",
        "x=Conv2DTranspose(64,3,2,activation ='relu',padding = 'same')(x)\n",
        "x=Conv2DTranspose(32,3,2,activation ='relu',padding = 'same')(x)\n",
        "x=Conv2DTranspose(3,3,activation ='sigmoid',padding = 'same')(x) #relu를 쓰게 되면 계속 발산하니까 sigmoid로 바꿔줌.\n",
        "model = Model(inputs,x) #input은 inputs, output은 x"
      ],
      "execution_count": 40,
      "outputs": []
    },
    {
      "cell_type": "markdown",
      "metadata": {
        "id": "svYCsKxOyJzt"
      },
      "source": [
        "### 문제 27. 모델 요약 정보를 출력해보세요."
      ]
    },
    {
      "cell_type": "code",
      "metadata": {
        "id": "d4qnTxHpyN37",
        "colab": {
          "base_uri": "https://localhost:8080/"
        },
        "outputId": "32f7ca4c-2912-4f5b-eaff-ecea28f4968b"
      },
      "source": [
        "# 모델 요약 정보를 출력해보세요.\n",
        "model.summary()"
      ],
      "execution_count": 41,
      "outputs": [
        {
          "output_type": "stream",
          "name": "stdout",
          "text": [
            "Model: \"model\"\n",
            "_________________________________________________________________\n",
            " Layer (type)                Output Shape              Param #   \n",
            "=================================================================\n",
            " input_3 (InputLayer)        [(None, 28, 28, 3)]       0         \n",
            "                                                                 \n",
            " conv2d_4 (Conv2D)           (None, 14, 14, 32)        896       \n",
            "                                                                 \n",
            " conv2d_5 (Conv2D)           (None, 7, 7, 64)          18496     \n",
            "                                                                 \n",
            " flatten_2 (Flatten)         (None, 3136)              0         \n",
            "                                                                 \n",
            " dense_4 (Dense)             (None, 10)                31370     \n",
            "                                                                 \n",
            " dense_5 (Dense)             (None, 3136)              34496     \n",
            "                                                                 \n",
            " reshape_2 (Reshape)         (None, 7, 7, 64)          0         \n",
            "                                                                 \n",
            " conv2d_transpose (Conv2DTra  (None, 14, 14, 64)       36928     \n",
            " nspose)                                                         \n",
            "                                                                 \n",
            " conv2d_transpose_1 (Conv2DT  (None, 28, 28, 32)       18464     \n",
            " ranspose)                                                       \n",
            "                                                                 \n",
            " conv2d_transpose_2 (Conv2DT  (None, 28, 28, 3)        867       \n",
            " ranspose)                                                       \n",
            "                                                                 \n",
            "=================================================================\n",
            "Total params: 141,517\n",
            "Trainable params: 141,517\n",
            "Non-trainable params: 0\n",
            "_________________________________________________________________\n"
          ]
        }
      ]
    },
    {
      "cell_type": "markdown",
      "metadata": {
        "id": "PkOrDR1yam4a"
      },
      "source": [
        "### 문제 28. 만든 모델에 로스와 옵티마이저, 메트릭을 설정하세요."
      ]
    },
    {
      "cell_type": "code",
      "metadata": {
        "id": "nufi0CMyazsF"
      },
      "source": [
        "# 만든 모델에 loss는 mse, optimizer는 adam 매트릭은 accuracy으로 설정하는 코드를 작성하세요.\n",
        "model.compile(loss='mse', optimizer = 'adam', metrics =['accuracy'])"
      ],
      "execution_count": 43,
      "outputs": []
    },
    {
      "cell_type": "markdown",
      "metadata": {
        "id": "IZRqZC50ZoaE"
      },
      "source": [
        "### 문제 29. 만든 모델에 train_noisy_images를 학습시켜 보세요."
      ]
    },
    {
      "cell_type": "code",
      "metadata": {
        "id": "PtpJp3fmaRuA",
        "colab": {
          "base_uri": "https://localhost:8080/"
        },
        "outputId": "99b32f69-32c5-4d08-eed8-550e8fbd4da1"
      },
      "source": [
        "# train_noisy_images를 학습시키고 5 epochs을 돌리고 그 진행 사항을 hist에 저장하는 코드를 작성하세요\n",
        "hist = model.fit(train_noisy_images, train_images, validation_data=(test_noisy_images, test_images), epochs=5, verbose=2)"
      ],
      "execution_count": 44,
      "outputs": [
        {
          "output_type": "stream",
          "name": "stdout",
          "text": [
            "Epoch 1/5\n",
            "1875/1875 - 101s - loss: 0.0298 - accuracy: 0.2604 - val_loss: 0.0193 - val_accuracy: 0.2572 - 101s/epoch - 54ms/step\n",
            "Epoch 2/5\n",
            "1875/1875 - 100s - loss: 0.0184 - accuracy: 0.2631 - val_loss: 0.0171 - val_accuracy: 0.2735 - 100s/epoch - 53ms/step\n",
            "Epoch 3/5\n",
            "1875/1875 - 100s - loss: 0.0170 - accuracy: 0.2866 - val_loss: 0.0164 - val_accuracy: 0.2803 - 100s/epoch - 53ms/step\n",
            "Epoch 4/5\n",
            "1875/1875 - 100s - loss: 0.0162 - accuracy: 0.2981 - val_loss: 0.0161 - val_accuracy: 0.3041 - 100s/epoch - 53ms/step\n",
            "Epoch 5/5\n",
            "1875/1875 - 99s - loss: 0.0156 - accuracy: 0.3092 - val_loss: 0.0153 - val_accuracy: 0.3136 - 99s/epoch - 53ms/step\n"
          ]
        }
      ]
    },
    {
      "cell_type": "markdown",
      "metadata": {
        "id": "hU3-Lm7Ma_97"
      },
      "source": [
        "### 문제 30. 학습 진행 사항을 plt으로 출력하세요."
      ]
    },
    {
      "cell_type": "code",
      "metadata": {
        "id": "B6pKz5o3bPIT",
        "colab": {
          "base_uri": "https://localhost:8080/",
          "height": 265
        },
        "outputId": "defccff3-4665-4081-9791-26fc79d16b03"
      },
      "source": [
        "# hist의 accuracy plt의 plot을 이용하여 출력하는 코드를 작성하세요.\n",
        "plt.plot(hist.history['accuracy'],label='accuracy')\n",
        "plt.plot(hist.history['loss'],label='loss')\n",
        "plt.plot(hist.history['val_accuracy'],label='val_accuracy')\n",
        "plt.plot(hist.history['val_loss'],label='val_loss')\n",
        "plt.legend(loc='upper left')\n",
        "plt.show()\n",
        "\n",
        "#loss는 줄어들지만 accuracy는 늘어남. 모든 픽셀에 노이즈가 있음."
      ],
      "execution_count": 47,
      "outputs": [
        {
          "output_type": "display_data",
          "data": {
            "image/png": "[encoded data removed]",
            "text/plain": [
              "<Figure size 432x288 with 1 Axes>"
            ]
          },
          "metadata": {
            "needs_background": "light"
          }
        }
      ]
    },
    {
      "cell_type": "markdown",
      "metadata": {
        "id": "bfxPsEKTrKBq"
      },
      "source": [
        "## Step 6. 결과 확인"
      ]
    },
    {
      "cell_type": "markdown",
      "metadata": {
        "id": "J6nvDS4yOSCD"
      },
      "source": [
        "### 문제 31. 완성된 모델에서 test_noisy_image를 1장 넣고 결과를 res 변수에 저정하세요."
      ]
    },
    {
      "cell_type": "code",
      "metadata": {
        "id": "uKFAu5z4QRjR",
        "colab": {
          "base_uri": "https://localhost:8080/"
        },
        "outputId": "b21a5106-7d1e-4be7-f761-f5cce0bee00c"
      },
      "source": [
        "# 모델에 test_noisy_images 중 1장을 넣고 결과를 받는 코드를 작성하세요.\n",
        "res=model.predict(test_noisy_images[7:8])\n",
        "res.shape"
      ],
      "execution_count": 60,
      "outputs": [
        {
          "output_type": "execute_result",
          "data": {
            "text/plain": [
              "(1, 28, 28, 3)"
            ]
          },
          "metadata": {},
          "execution_count": 60
        }
      ]
    },
    {
      "cell_type": "markdown",
      "metadata": {
        "id": "KMHHUTQfQcU0"
      },
      "source": [
        "### 문제 32. res와 test_noisy_images[0], test_images[0]를 width 방향으로 결합하여 plt로 출력하세요."
      ]
    },
    {
      "cell_type": "code",
      "metadata": {
        "id": "L0t-FO9qRfoK",
        "colab": {
          "base_uri": "https://localhost:8080/",
          "height": 162
        },
        "outputId": "af1d824b-bc06-4141-b278-30d17e6b27bb"
      },
      "source": [
        "# res와 test_noisy_images[0], test_images[0]를 width 방향으로 결합하여 (28, 28 * 3, 3) 의 이미지를 만들어 plt로 출력하는 코드를 작성하세요.\n",
        "plt.imshow(np.concatenate([test_images[7],res[0],test_noisy_images[7]],axis=1))\n",
        "plt.show()"
      ],
      "execution_count": 61,
      "outputs": [
        {
          "output_type": "display_data",
          "data": {
            "image/png": "[encoded data removed]",
            "text/plain": [
              "<Figure size 432x288 with 1 Axes>"
            ]
          },
          "metadata": {
            "needs_background": "light"
          }
        }
      ]
    },
    {
      "cell_type": "markdown",
      "metadata": {
        "id": "pKj9nU4kSIJJ"
      },
      "source": [
        "### 문제 33. 5장의 test_noisy_images를 모델에 넣은 뒤 결과를 31번의 방식으로 비교하세요."
      ]
    },
    {
      "cell_type": "code",
      "metadata": {
        "id": "u8aIlyMnRioF",
        "colab": {
          "base_uri": "https://localhost:8080/",
          "height": 74
        },
        "outputId": "4c120db9-97a7-45c8-d6bb-3b297c3efa88"
      },
      "source": [
        "# 5장의 이미지를 모델에 넣고 결과를 31번과 같은 방식으로 비교하는 코드를 작성하세요\n",
        "five=model.predict(test_noisy_images[:5])\n",
        "result=np.concatenate([test_images[:5],five,test_noisy_images[:5]],axis=2).transpose([1,0,2,3]).reshape((28,-1,3))\n",
        "plt.imshow(result)\n",
        "plt.show()"
      ],
      "execution_count": 67,
      "outputs": [
        {
          "output_type": "display_data",
          "data": {
            "image/png": "[encoded data removed]",
            "text/plain": [
              "<Figure size 432x288 with 1 Axes>"
            ]
          },
          "metadata": {
            "needs_background": "light"
          }
        }
      ]
    },
    {
      "cell_type": "markdown",
      "metadata": {
        "id": "YrMEsa5oDvfm"
      },
      "source": [
        "## Step 7. 모델 저장 및 로드, 다운"
      ]
    },
    {
      "cell_type": "markdown",
      "metadata": {
        "id": "c2GZFvCAzFNl"
      },
      "source": [
        "### 문제 34. 모델을 저장하세요."
      ]
    },
    {
      "cell_type": "code",
      "metadata": {
        "id": "YjuCVTNbriVJ"
      },
      "source": [
        "# 모델을 저장하는 코드를 작성하세요.\n",
        "model.save(\"./lecture002.h5\")"
      ],
      "execution_count": 68,
      "outputs": []
    },
    {
      "cell_type": "markdown",
      "metadata": {
        "id": "Bj4P3DdzzhyC"
      },
      "source": [
        "### 문제 35. 모델 파일을 새로운 모델에 로드하세요."
      ]
    },
    {
      "cell_type": "code",
      "metadata": {
        "id": "xuRAnBR8zY-X"
      },
      "source": [
        "# 모델을 로드하는 코드를 작성하세요.\n",
        "new_model=tf.keras.models.load_model('./lecture002.h5')"
      ],
      "execution_count": 69,
      "outputs": []
    },
    {
      "cell_type": "markdown",
      "metadata": {
        "id": "ta1I5ZEY1FBR"
      },
      "source": [
        "### 문제 36. 로드한 모델을 test 데이터로 평가해보세요.\n"
      ]
    },
    {
      "cell_type": "code",
      "metadata": {
        "id": "ALrVf_lm0_Bc",
        "colab": {
          "base_uri": "https://localhost:8080/"
        },
        "outputId": "2acb2cfd-1adc-4191-eaee-b81b5228fdf9"
      },
      "source": [
        "# 로드한 모델을 test 데이터로 평가해보세요.\n",
        "loss,accuracy=model.evaluate(test_noisy_images, test_images, verbose=1)\n",
        "print(loss,accuracy)\n",
        "loss,accuracy=new_model.evaluate(test_noisy_images, test_images, verbose=1)\n",
        "print(loss,accuracy)"
      ],
      "execution_count": 72,
      "outputs": [
        {
          "output_type": "stream",
          "name": "stdout",
          "text": [
            "313/313 [==============================] - 7s 22ms/step - loss: 0.0153 - accuracy: 0.3136\n",
            "0.015294603072106838 0.31363368034362793\n",
            "313/313 [==============================] - 7s 21ms/step - loss: 0.0153 - accuracy: 0.3136\n",
            "0.015294603072106838 0.31363368034362793\n"
          ]
        }
      ]
    },
    {
      "cell_type": "markdown",
      "metadata": {
        "id": "gfEgY1Vr1T1v"
      },
      "source": [
        "### 문제 37. 모델을 내 컴퓨터에 저장해보세요"
      ]
    },
    {
      "cell_type": "code",
      "metadata": {
        "id": "ASkJv_Ui1RGv",
        "colab": {
          "base_uri": "https://localhost:8080/",
          "height": 17
        },
        "outputId": "d16665a3-7c16-4360-e1ff-e37e457d0602"
      },
      "source": [
        "# 모델을 내 컴퓨터에 저장해보세요.\n",
        "from google.colab import files\n",
        "files.download('./lecture002.h5')"
      ],
      "execution_count": 75,
      "outputs": [
        {
          "output_type": "display_data",
          "data": {
            "application/javascript": [
              "\n",
              "    async function download(id, filename, size) {\n",
              "      if (!google.colab.kernel.accessAllowed) {\n",
              "        return;\n",
              "      }\n",
              "      const div = document.createElement('div');\n",
              "      const label = document.createElement('label');\n",
              "      label.textContent = `Downloading \"${filename}\": `;\n",
              "      div.appendChild(label);\n",
              "      const progress = document.createElement('progress');\n",
              "      progress.max = size;\n",
              "      div.appendChild(progress);\n",
              "      document.body.appendChild(div);\n",
              "\n",
              "      const buffers = [];\n",
              "      let downloaded = 0;\n",
              "\n",
              "      const channel = await google.colab.kernel.comms.open(id);\n",
              "      // Send a message to notify the kernel that we're ready.\n",
              "      channel.send({})\n",
              "\n",
              "      for await (const message of channel.messages) {\n",
              "        // Send a message to notify the kernel that we're ready.\n",
              "        channel.send({})\n",
              "        if (message.buffers) {\n",
              "          for (const buffer of message.buffers) {\n",
              "            buffers.push(buffer);\n",
              "            downloaded += buffer.byteLength;\n",
              "            progress.value = downloaded;\n",
              "          }\n",
              "        }\n",
              "      }\n",
              "      const blob = new Blob(buffers, {type: 'application/binary'});\n",
              "      const a = document.createElement('a');\n",
              "      a.href = window.URL.createObjectURL(blob);\n",
              "      a.download = filename;\n",
              "      div.appendChild(a);\n",
              "      a.click();\n",
              "      div.remove();\n",
              "    }\n",
              "  "
            ],
            "text/plain": [
              "<IPython.core.display.Javascript object>"
            ]
          },
          "metadata": {}
        },
        {
          "output_type": "display_data",
          "data": {
            "application/javascript": [
              "download(\"download_913a51d2-1077-466b-add5-f2197e63c89b\", \"lecture002.h5\", 1766160)"
            ],
            "text/plain": [
              "<IPython.core.display.Javascript object>"
            ]
          },
          "metadata": {}
        }
      ]
    },
    {
      "cell_type": "code",
      "metadata": {
        "id": "yIfaOqbJQ__X"
      },
      "source": [
        ""
      ],
      "execution_count": null,
      "outputs": []
    }
  ]
}